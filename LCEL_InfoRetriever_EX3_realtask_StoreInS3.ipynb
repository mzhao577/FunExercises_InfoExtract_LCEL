{
 "cells": [
  {
   "cell_type": "markdown",
   "id": "16de7336",
   "metadata": {},
   "source": [
    "# Tagging and Extraction Using OpenAI functions"
   ]
  },
  {
   "cell_type": "code",
   "execution_count": 32,
   "id": "6dab124f",
   "metadata": {},
   "outputs": [],
   "source": [
    "####.  Please use VirttualEnv: LCEL_extracting\n",
    "####.  Please use VirttualEnv: LCEL_extracting\n",
    "####.  Please use VirttualEnv: LCEL_extracting\n",
    "\n",
    "import os\n",
    "from dotenv import load_dotenv, find_dotenv\n",
    "#_ = load_dotenv(find_dotenv()) \n",
    "_ = load_dotenv(dotenv_path=\"/Users/maxzhao/.env\") \n",
    "OPENAI_API_KEY=os.environ[\"OPENAI_API_KEY\"]\n",
    "os.environ['USER_AGENT'] = 'myagent'\n",
    "AWS_ACCESS_KEY_ID=os.environ[\"AWS_ACCESS_KEY_ID\"]\n",
    "AWS_SECRECT_ACCESS_KEY=os.environ[\"AWS_SECRECT_ACCESS_KEY\"]"
   ]
  },
  {
   "cell_type": "code",
   "execution_count": 33,
   "id": "15626162-c934-4618-a9c8-fee6c522c95f",
   "metadata": {},
   "outputs": [],
   "source": [
    "#os.environ.clear()"
   ]
  },
  {
   "cell_type": "code",
   "execution_count": 34,
   "id": "ca1f9777",
   "metadata": {},
   "outputs": [
    {
     "name": "stdout",
     "output_type": "stream",
     "text": [
      "Uploaded llm_extract/test.json to gz5427\n"
     ]
    }
   ],
   "source": [
    "import boto3\n",
    "import json\n",
    "\n",
    "# Initialize a session using your AWS credentials\n",
    "session = boto3.Session(\n",
    "    aws_access_key_id=AWS_ACCESS_KEY_ID,\n",
    "    aws_secret_access_key=AWS_SECRECT_ACCESS_KEY,\n",
    "    region_name='us-east-1'  # e.g., 'us-west-1'\n",
    ")\n",
    "\n",
    "# Create an S3 client\n",
    "s3 = session.client('s3')\n",
    "\n",
    "# Your JSON object\n",
    "data = {\n",
    "    \"name\": \"John Doe\",\n",
    "    \"age\": 30,\n",
    "    \"city\": \"New York\"\n",
    "}\n",
    "\n",
    "# Convert JSON object to string\n",
    "json_data = json.dumps(data)\n",
    "\n",
    "# Define your bucket name and the desired object name (key)\n",
    "bucket_name = 'gz5427'\n",
    "object_name = 'llm_extract/test.json'\n",
    "\n",
    "# Upload JSON string to S3\n",
    "s3.put_object(Bucket=bucket_name, Key=object_name, Body=json_data)\n",
    "\n",
    "print(f\"Uploaded {object_name} to {bucket_name}\")"
   ]
  },
  {
   "cell_type": "code",
   "execution_count": 35,
   "id": "d75dc4a0-a224-4ed4-bcdb-4c4bde38b330",
   "metadata": {},
   "outputs": [
    {
     "name": "stdout",
     "output_type": "stream",
     "text": [
      "langchain==0.2.15\n",
      "langchain-community==0.2.13\n",
      "langchain-core==0.2.41\n",
      "langchain-openai==0.1.23\n",
      "langchain-text-splitters==0.2.4\n",
      "langchain-openai==0.1.23\n",
      "openai==1.47.0\n",
      "openapi-schema-pydantic==1.2.4\n",
      "pydantic==2.9.2\n",
      "pydantic-settings==2.5.2\n",
      "pydantic_core==2.23.4\n"
     ]
    }
   ],
   "source": [
    "!pip freeze | grep langchain\n",
    "\n",
    "!pip freeze | grep openai\n",
    "\n",
    "!pip freeze | grep pydantic\n"
   ]
  },
  {
   "cell_type": "markdown",
   "id": "3fc4519d",
   "metadata": {},
   "source": [
    "## Extraction\n",
    "\n",
    "Extraction is similar to tagging, but used for extracting multiple pieces of information."
   ]
  },
  {
   "cell_type": "markdown",
   "id": "af19ed8e-2f13-4297-b2b7-5989f33bb9ad",
   "metadata": {},
   "source": [
    "## Doing it for real\n",
    "\n",
    "We can apply tagging to a larger body of text.\n",
    "\n",
    "For example, let's load this blog post and extract tag information from a sub-set of the text."
   ]
  },
  {
   "cell_type": "code",
   "execution_count": 36,
   "id": "e6fd0db3",
   "metadata": {},
   "outputs": [],
   "source": [
    "from langchain_openai import ChatOpenAI\n",
    "from typing import List, Optional\n",
    "from pydantic import BaseModel, Field\n",
    "#from langchain.utils.openai_functions import convert_pydantic_to_openai_function\n",
    "from langchain_core.utils.function_calling import convert_to_openai_function\n",
    "from langchain.output_parsers.openai_functions import JsonKeyOutputFunctionsParser\n",
    "\n",
    "model = ChatOpenAI(temperature=0,model=\"gpt-4o\")"
   ]
  },
  {
   "cell_type": "code",
   "execution_count": 37,
   "id": "594992ea-dc82-4029-ad11-5fc9abd306a0",
   "metadata": {},
   "outputs": [],
   "source": [
    "from langchain.document_loaders import WebBaseLoader\n",
    "loader = WebBaseLoader(\"https://lilianweng.github.io/posts/2023-06-23-agent/\")\n",
    "documents = loader.load()"
   ]
  },
  {
   "cell_type": "code",
   "execution_count": 38,
   "id": "fe5655e2-03f4-4e56-acaa-846ed07fce6c",
   "metadata": {},
   "outputs": [],
   "source": [
    "doc = documents[0]"
   ]
  },
  {
   "cell_type": "code",
   "execution_count": 39,
   "id": "cbef960d-d379-4bd5-9832-3205a67eb80c",
   "metadata": {},
   "outputs": [],
   "source": [
    "page_content = doc.page_content[:10000]"
   ]
  },
  {
   "cell_type": "markdown",
   "id": "53f3d5ae-ce34-449f-a7e2-e9424b6a0f4b",
   "metadata": {},
   "source": [
    "Now let's try to extract all papers mentioned in this article"
   ]
  },
  {
   "cell_type": "code",
   "execution_count": 40,
   "id": "b13e373e-b6e5-4fd3-be65-731e738ffb71",
   "metadata": {},
   "outputs": [],
   "source": [
    "class Paper(BaseModel):\n",
    "    \"\"\"Information about papers mentioned.\"\"\"\n",
    "    title: str\n",
    "    author: Optional[str]\n",
    "\n",
    "\n",
    "class Info(BaseModel):\n",
    "    \"\"\"Information to extract\"\"\"\n",
    "    papers: List[Paper]"
   ]
  },
  {
   "cell_type": "code",
   "execution_count": 41,
   "id": "6926fcd3",
   "metadata": {},
   "outputs": [],
   "source": [
    "from langchain.prompts import ChatPromptTemplate\n",
    "prompt = ChatPromptTemplate.from_messages([\n",
    "    (\"system\", \"Extract the relevant information, if not explicitly provided do not guess. Extract partial info\"),\n",
    "    (\"human\", \"{input}\")\n",
    "])"
   ]
  },
  {
   "cell_type": "code",
   "execution_count": 42,
   "id": "5c261180-9f33-455f-b10d-22608b118d42",
   "metadata": {},
   "outputs": [],
   "source": [
    "paper_extraction_function = [convert_to_openai_function(Info)]\n",
    "extraction_model = model.bind(functions=paper_extraction_function, function_call={\"name\":\"Info\"})"
   ]
  },
  {
   "cell_type": "code",
   "execution_count": 43,
   "id": "680f7d81-3b7b-4c22-a742-ae2fadc88611",
   "metadata": {},
   "outputs": [],
   "source": [
    "extraction_chain = prompt | extraction_model | JsonKeyOutputFunctionsParser(key_name=\"papers\")"
   ]
  },
  {
   "cell_type": "code",
   "execution_count": 44,
   "id": "e7786307-09f7-4f26-b52b-91b00adb01e4",
   "metadata": {},
   "outputs": [
    {
     "data": {
      "text/plain": [
       "[{'title': 'Chain of thought (CoT)', 'author': 'Wei et al. 2022'},\n",
       " {'title': 'Tree of Thoughts', 'author': 'Yao et al. 2023'},\n",
       " {'title': 'LLM+P', 'author': 'Liu et al. 2023'},\n",
       " {'title': 'ReAct', 'author': 'Yao et al. 2023'},\n",
       " {'title': 'Reflexion', 'author': 'Shinn & Labash 2023'},\n",
       " {'title': 'Chain of Hindsight (CoH)', 'author': 'Liu et al. 2023'},\n",
       " {'title': 'Algorithm Distillation (AD)', 'author': 'Laskin et al. 2023'}]"
      ]
     },
     "execution_count": 44,
     "metadata": {},
     "output_type": "execute_result"
    }
   ],
   "source": [
    "extraction_chain.invoke({\"input\": page_content})"
   ]
  },
  {
   "cell_type": "code",
   "execution_count": 45,
   "id": "f08b2425-2b50-4015-aa9f-74931b30af09",
   "metadata": {},
   "outputs": [],
   "source": [
    "template = \"\"\"A article will be passed to you. Extract from it all papers that are mentioned by this article. \n",
    "\n",
    "Do not extract the name of the article itself. If no papers are mentioned that's fine - you don't need to extract any! Just return an empty list.\n",
    "\n",
    "Do not make up or guess ANY extra information. Only extract what exactly is in the text.\"\"\"\n",
    "\n",
    "prompt = ChatPromptTemplate.from_messages([\n",
    "    (\"system\", template),\n",
    "    (\"human\", \"{input}\")\n",
    "])"
   ]
  },
  {
   "cell_type": "code",
   "execution_count": 46,
   "id": "06b5eb24-53ee-4bf3-b560-18e9f503e551",
   "metadata": {},
   "outputs": [],
   "source": [
    "extraction_chain = prompt | extraction_model | JsonKeyOutputFunctionsParser(key_name=\"papers\")"
   ]
  },
  {
   "cell_type": "code",
   "execution_count": 47,
   "id": "d52a51b8-6151-4baf-9fe9-8952bf46ad63",
   "metadata": {},
   "outputs": [
    {
     "data": {
      "text/plain": [
       "[{'title': 'Chain of thought (CoT)', 'author': 'Wei et al. 2022'},\n",
       " {'title': 'Tree of Thoughts', 'author': 'Yao et al. 2023'},\n",
       " {'title': 'LLM+P', 'author': 'Liu et al. 2023'},\n",
       " {'title': 'ReAct', 'author': 'Yao et al. 2023'},\n",
       " {'title': 'Reflexion', 'author': 'Shinn & Labash 2023'},\n",
       " {'title': 'Chain of Hindsight (CoH)', 'author': 'Liu et al. 2023'},\n",
       " {'title': 'Algorithm Distillation (AD)', 'author': 'Laskin et al. 2023'}]"
      ]
     },
     "execution_count": 47,
     "metadata": {},
     "output_type": "execute_result"
    }
   ],
   "source": [
    "output=extraction_chain.invoke({\"input\": page_content})\n",
    "output"
   ]
  },
  {
   "cell_type": "markdown",
   "id": "9efc9c9d",
   "metadata": {},
   "source": [
    "## Store data into s3.\n"
   ]
  },
  {
   "cell_type": "code",
   "execution_count": 48,
   "id": "bfb50add",
   "metadata": {},
   "outputs": [
    {
     "name": "stdout",
     "output_type": "stream",
     "text": [
      "Uploaded llm_extract/extracted_Fromweb.json to gz5427\n"
     ]
    }
   ],
   "source": [
    "import boto3\n",
    "import json\n",
    "\n",
    "# Initialize a session using your AWS credentials\n",
    "session = boto3.Session(\n",
    "    aws_access_key_id=AWS_ACCESS_KEY_ID,\n",
    "    aws_secret_access_key=AWS_SECRECT_ACCESS_KEY,\n",
    "    region_name='us-east-1'  # e.g., 'us-west-1'\n",
    ")\n",
    "\n",
    "# Create an S3 client\n",
    "s3 = session.client('s3')\n",
    "\n",
    "# Convert JSON object to string\n",
    "json_data = json.dumps(output)\n",
    "\n",
    "# Define your bucket name and the desired object name (key)\n",
    "bucket_name = 'gz5427'\n",
    "object_name = 'llm_extract/extracted_Fromweb.json'\n",
    "\n",
    "# Upload JSON string to S3\n",
    "s3.put_object(Bucket=bucket_name, Key=object_name, Body=json_data)\n",
    "\n",
    "print(f\"Uploaded {object_name} to {bucket_name}\")"
   ]
  },
  {
   "cell_type": "code",
   "execution_count": 49,
   "id": "bae0e844",
   "metadata": {},
   "outputs": [],
   "source": [
    "####. Method 1: Use this function to store data into S3.\n",
    "####.           This is probabaly the easiest way and easy to debug.\n",
    "def storeintoS3(data, bucketname, filepath):\n",
    "    import boto3\n",
    "    import json\n",
    "\n",
    "    # Initialize a session using your AWS credentials\n",
    "    session = boto3.Session(\n",
    "        aws_access_key_id=AWS_ACCESS_KEY_ID,\n",
    "        aws_secret_access_key=AWS_SECRECT_ACCESS_KEY,\n",
    "        region_name='us-east-1'  # e.g., 'us-west-1'\n",
    "    )\n",
    "\n",
    "    # Create an S3 client\n",
    "    s3 = session.client('s3')\n",
    "    \n",
    "    # Convert JSON object to string\n",
    "    json_data = json.dumps(data)\n",
    "\n",
    "    # Upload JSON string to S3\n",
    "    s3.put_object(Bucket=bucketname, Key=filepath, Body=json_data)\n",
    "  \n",
    "#####.  Finally store it into S3\n",
    "storeintoS3(data=output, bucketname='gz5427', filepath='llm_extract/testlcel_v3.json')   "
   ]
  },
  {
   "cell_type": "code",
   "execution_count": null,
   "id": "210bfacb",
   "metadata": {},
   "outputs": [],
   "source": []
  }
 ],
 "metadata": {
  "kernelspec": {
   "display_name": "lcel_agents",
   "language": "python",
   "name": "lcel_agents"
  },
  "language_info": {
   "codemirror_mode": {
    "name": "ipython",
    "version": 3
   },
   "file_extension": ".py",
   "mimetype": "text/x-python",
   "name": "python",
   "nbconvert_exporter": "python",
   "pygments_lexer": "ipython3",
   "version": "3.12.0"
  }
 },
 "nbformat": 4,
 "nbformat_minor": 5
}
